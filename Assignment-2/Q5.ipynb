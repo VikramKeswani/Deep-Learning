{
  "nbformat": 4,
  "nbformat_minor": 0,
  "metadata": {
    "colab": {
      "name": "Untitled27.ipynb",
      "provenance": [],
      "collapsed_sections": [],
      "toc_visible": true
    },
    "kernelspec": {
      "name": "python3",
      "display_name": "Python 3"
    },
    "language_info": {
      "name": "python"
    }
  },
  "cells": [
    {
      "cell_type": "code",
      "metadata": {
        "id": "26kQWwOR_jpP"
      },
      "source": [
        "import numpy as np\n",
        "import pandas as pd\n",
        "from sklearn.model_selection import train_test_split\n",
        "from sklearn.preprocessing import StandardScaler\n",
        "from sklearn.neural_network import MLPRegressor\n",
        "import matplotlib.pyplot as plt\n",
        "from mpl_toolkits import mplot3d"
      ],
      "execution_count": null,
      "outputs": []
    },
    {
      "cell_type": "code",
      "metadata": {
        "id": "dRtaDRya_ta5"
      },
      "source": [
        "data_frame=pd.read_csv(\"/content/winequalityN.csv\",sep=',')\n",
        "data_frame.dropna(inplace = True)\n",
        "data=np.matrix(data_frame)\n",
        "data_X = data[:,1:-1]\n",
        "data_Y = data[:,-1]\n",
        "X_val=data_X.astype('float64')\n",
        "Y_val=data_Y.astype('float64')\n",
        "X_val_mat=np.matrix(X_val)\n",
        "Y_val_mat=np.matrix(Y_val)"
      ],
      "execution_count": null,
      "outputs": []
    },
    {
      "cell_type": "code",
      "metadata": {
        "id": "7UbqMy5QSl5Q"
      },
      "source": [
        "X_train, X_test, Y_train, Y_test = train_test_split(\n",
        "    X_val_mat, Y_val_mat, test_size=0.30, random_state=10)"
      ],
      "execution_count": null,
      "outputs": []
    },
    {
      "cell_type": "code",
      "metadata": {
        "id": "3PjX1CuGdQnn"
      },
      "source": [
        "scale = StandardScaler()\n",
        "X_train=scale.fit_transform(X_train)\n",
        "X_test=scale.fit_transform(X_test)"
      ],
      "execution_count": null,
      "outputs": []
    },
    {
      "cell_type": "code",
      "metadata": {
        "id": "mAaBm1pVdhK6"
      },
      "source": [
        "Y_test = np.ravel(Y_test)\n",
        "Y_train = np.ravel(Y_train)"
      ],
      "execution_count": null,
      "outputs": []
    },
    {
      "cell_type": "markdown",
      "metadata": {
        "id": "_21W8z31jZif"
      },
      "source": [
        "# **Number Of Hidden Layer = 25**\n",
        "### **Activation Function = tanh**"
      ]
    },
    {
      "cell_type": "code",
      "metadata": {
        "id": "6lQdplQ7UhUD"
      },
      "source": [
        "hidden_layers = 25\n",
        "batch_size = 1\n",
        "regressor = MLPRegressor(hidden_layer_sizes = (hidden_layers,),activation = 'tanh',batch_size = batch_size,shuffle = True,max_iter = 1000)\n",
        "regressor.fit(X_train,Y_train)\n",
        "Y_predict_test = regressor.predict(X_test)\n",
        "Y_predict_train = regressor.predict(X_train)"
      ],
      "execution_count": null,
      "outputs": []
    },
    {
      "cell_type": "code",
      "metadata": {
        "colab": {
          "base_uri": "https://localhost:8080/",
          "height": 300
        },
        "id": "BKR13xCKYidC",
        "outputId": "7d6c4ca9-4e1f-4d3c-fc37-afeb9ecdc8cc"
      },
      "source": [
        "plt.plot(regressor.loss_curve_)\n",
        "plt.show()\n",
        "test_error= np.square(Y_predict_test-Y_test).mean(axis=0)\n",
        "train_error = np.square(Y_predict_train-Y_train).mean(axis=0)\n",
        "print(\"Training error = \"+str(train_error))\n",
        "print(\"Test error = \"+str(test_error))"
      ],
      "execution_count": null,
      "outputs": [
        {
          "output_type": "display_data",
          "data": {
            "image/png": "[encoded data removed]",
            "text/plain": [
              "<Figure size 432x288 with 1 Axes>"
            ]
          },
          "metadata": {
            "tags": [],
            "needs_background": "light"
          }
        },
        {
          "output_type": "stream",
          "text": [
            "Training error = 0.39274907988009733\n",
            "Test error = 0.5127940769039006\n"
          ],
          "name": "stdout"
        }
      ]
    },
    {
      "cell_type": "markdown",
      "metadata": {
        "id": "t6YuuYcPxtvf"
      },
      "source": [
        "**Activation Function = relu**"
      ]
    },
    {
      "cell_type": "code",
      "metadata": {
        "colab": {
          "base_uri": "https://localhost:8080/",
          "height": 300
        },
        "id": "_-u0VGOYjyW6",
        "outputId": "1fd8a7a7-acfc-4f62-b78e-94062802a0b3"
      },
      "source": [
        "hidden_layers = 25\n",
        "activation = 'relu'\n",
        "batch_size=1\n",
        "regressor = MLPRegressor(hidden_layer_sizes = (hidden_layers,), activation = 'relu', batch_size = 1,shuffle = True,max_iter = 1000)\n",
        "regressor.fit(X_train,Y_train)\n",
        "Y_predict_test = regressor.predict(X_test)\n",
        "Y_predict_train = regressor.predict(X_train)\n",
        "plt.plot(regressor.loss_curve_)\n",
        "plt.show()\n",
        "test_error= np.square(Y_predict_test-Y_test).mean(axis=0)\n",
        "train_error = np.square(Y_predict_train-Y_train).mean(axis=0)\n",
        "print(\"Training error = \"+str(train_error))\n",
        "print(\"Test error = \"+str(test_error))"
      ],
      "execution_count": null,
      "outputs": [
        {
          "output_type": "display_data",
          "data": {
            "image/png": "[encoded data removed]",
            "text/plain": [
              "<Figure size 432x288 with 1 Axes>"
            ]
          },
          "metadata": {
            "tags": [],
            "needs_background": "light"
          }
        },
        {
          "output_type": "stream",
          "text": [
            "Training error = 0.4387347399202561\n",
            "Test error = 0.5370810816058794\n"
          ],
          "name": "stdout"
        }
      ]
    },
    {
      "cell_type": "code",
      "metadata": {
        "id": "FOrmTso0xXhh"
      },
      "source": [
        ""
      ],
      "execution_count": null,
      "outputs": []
    }
  ]
}